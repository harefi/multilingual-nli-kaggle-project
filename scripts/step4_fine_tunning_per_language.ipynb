{
 "cells": [
  {
   "cell_type": "markdown",
   "metadata": {},
   "source": [
    "## **Analyze Fine-Tuning Performance on Individual Languages**\n",
    "\n",
    "### **Objective**\n",
    "\n",
    "This step evaluates the performance of the fine-tuned model on some individual languages (English, Spanish, and Chinese) to investigate whether the good overall performance is influenced by the imbalance in the dataset. By fine-tuning the model on each language separately, we can determine how well the model learns from datasets with varying sizes and linguistic properties"
   ]
  },
  {
   "cell_type": "markdown",
   "metadata": {},
   "source": [
    "### **Step 1:  Import Required Libraries**\n",
    "\n",
    "Load essential libraries for model training, evaluation, and data manipulation."
   ]
  },
  {
   "cell_type": "code",
   "execution_count": 1,
   "metadata": {},
   "outputs": [
    {
     "name": "stderr",
     "output_type": "stream",
     "text": [
      "/home/yazata/venvs/ai_env/lib/python3.12/site-packages/tqdm/auto.py:21: TqdmWarning: IProgress not found. Please update jupyter and ipywidgets. See https://ipywidgets.readthedocs.io/en/stable/user_install.html\n",
      "  from .autonotebook import tqdm as notebook_tqdm\n",
      "2025-01-12 23:59:35.726890: E external/local_xla/xla/stream_executor/cuda/cuda_fft.cc:477] Unable to register cuFFT factory: Attempting to register factory for plugin cuFFT when one has already been registered\n",
      "WARNING: All log messages before absl::InitializeLog() is called are written to STDERR\n",
      "E0000 00:00:1736722775.751012  119332 cuda_dnn.cc:8310] Unable to register cuDNN factory: Attempting to register factory for plugin cuDNN when one has already been registered\n",
      "E0000 00:00:1736722775.758429  119332 cuda_blas.cc:1418] Unable to register cuBLAS factory: Attempting to register factory for plugin cuBLAS when one has already been registered\n",
      "2025-01-12 23:59:35.784589: I tensorflow/core/platform/cpu_feature_guard.cc:210] This TensorFlow binary is optimized to use available CPU instructions in performance-critical operations.\n",
      "To enable the following instructions: AVX2 FMA, in other operations, rebuild TensorFlow with the appropriate compiler flags.\n"
     ]
    }
   ],
   "source": [
    "import pandas as pd\n",
    "import torch\n",
    "from datasets import Dataset, DatasetDict\n",
    "from transformers import (\n",
    "    AutoTokenizer,\n",
    "    AutoModelForSequenceClassification,\n",
    "    Trainer,\n",
    "    TrainingArguments,\n",
    ")\n",
    "from sklearn.model_selection import train_test_split\n",
    "from sklearn.metrics import accuracy_score, f1_score\n",
    "import matplotlib.pyplot as plt"
   ]
  },
  {
   "cell_type": "markdown",
   "metadata": {},
   "source": [
    "### **Step 2: Define Helper Functions**\n",
    "\n",
    "Functions for tokenization, evaluation metrics, and processing datasets."
   ]
  },
  {
   "cell_type": "code",
   "execution_count": 3,
   "metadata": {},
   "outputs": [],
   "source": [
    "# Define metrics for evaluation\n",
    "def compute_metrics(eval_pred):\n",
    "    logits, labels = eval_pred\n",
    "    predictions = torch.argmax(torch.tensor(logits), dim=-1).numpy()\n",
    "    acc = accuracy_score(labels, predictions)\n",
    "    f1 = f1_score(labels, predictions, average=\"weighted\")\n",
    "    return {\"accuracy\": acc, \"f1\": f1}\n",
    "\n",
    "# Define tokenization function\n",
    "def preprocess_function(examples, tokenizer, max_length=128):\n",
    "    return tokenizer(\n",
    "        examples[\"premise\"],\n",
    "        examples[\"hypothesis\"],\n",
    "        truncation=True,\n",
    "        padding=\"max_length\",\n",
    "        max_length=max_length,\n",
    "    )"
   ]
  },
  {
   "cell_type": "markdown",
   "metadata": {},
   "source": [
    "### **Step 3: Load Data**\n",
    "\n",
    "Load datasets for English, Spanish, and Chinese."
   ]
  },
  {
   "cell_type": "code",
   "execution_count": 4,
   "metadata": {},
   "outputs": [],
   "source": [
    "# File paths for language-specific datasets\n",
    "language_files = {\n",
    "    \"English\": \"../data/language_datasets/English_data.csv\",\n",
    "    \"Spanish\": \"../data/language_datasets/Spanish_data.csv\",\n",
    "    \"Chinese\": \"../data/language_datasets/Chinese_data.csv\",\n",
    "}\n",
    "\n",
    "# Dictionary to store datasets\n",
    "datasets_by_language = {}\n",
    "\n",
    "# Load datasets into Hugging Face format\n",
    "for language, file_path in language_files.items():\n",
    "    data = pd.read_csv(file_path)\n",
    "    train_data, val_data = train_test_split(\n",
    "        data, test_size=0.2, stratify=data[\"label\"], random_state=123\n",
    "    )\n",
    "    train_dataset = Dataset.from_pandas(train_data)\n",
    "    val_dataset = Dataset.from_pandas(val_data)\n",
    "    datasets_by_language[language] = DatasetDict(\n",
    "        {\"train\": train_dataset, \"validation\": val_dataset}\n",
    "    )\n"
   ]
  },
  {
   "cell_type": "markdown",
   "metadata": {},
   "source": [
    "### **Step 4: Define Training and Fine-Tuning Parameters**\n",
    "\n",
    "Use the same pre-trained model (xlm-roberta-base) for consistency."
   ]
  },
  {
   "cell_type": "code",
   "execution_count": 5,
   "metadata": {},
   "outputs": [
    {
     "name": "stderr",
     "output_type": "stream",
     "text": [
      "/home/yazata/venvs/ai_env/lib/python3.12/site-packages/transformers/training_args.py:1575: FutureWarning: `evaluation_strategy` is deprecated and will be removed in version 4.46 of 🤗 Transformers. Use `eval_strategy` instead\n",
      "  warnings.warn(\n"
     ]
    }
   ],
   "source": [
    "# Model name\n",
    "model_name = \"xlm-roberta-base\"\n",
    "\n",
    "# Load tokenizer\n",
    "tokenizer = AutoTokenizer.from_pretrained(model_name)\n",
    "\n",
    "# Training arguments\n",
    "training_args = TrainingArguments(\n",
    "    output_dir=\"./language_results\",\n",
    "    evaluation_strategy=\"epoch\",\n",
    "    save_strategy=\"epoch\",\n",
    "    learning_rate=2e-5,\n",
    "    per_device_train_batch_size=16,\n",
    "    per_device_eval_batch_size=16,\n",
    "    num_train_epochs=10,\n",
    "    weight_decay=0.01,\n",
    "    logging_dir=\"./language_logs\",\n",
    "    logging_steps=100,\n",
    "    load_best_model_at_end=True,\n",
    "    metric_for_best_model=\"accuracy\",\n",
    "    save_total_limit=2,\n",
    ")"
   ]
  },
  {
   "cell_type": "markdown",
   "metadata": {},
   "source": [
    "### **Step 5: Fine-Tune Model for Each Language**\n",
    "\n",
    "Loop through datasets for each language, fine-tune the model, and store results."
   ]
  },
  {
   "cell_type": "code",
   "execution_count": 8,
   "metadata": {},
   "outputs": [
    {
     "name": "stdout",
     "output_type": "stream",
     "text": [
      "\n",
      "Fine-tuning model for language: English\n"
     ]
    },
    {
     "name": "stderr",
     "output_type": "stream",
     "text": [
      "Map: 100%|██████████| 5496/5496 [00:00<00:00, 8554.20 examples/s]\n",
      "Map: 100%|██████████| 1374/1374 [00:00<00:00, 2258.09 examples/s]\n",
      "Some weights of XLMRobertaForSequenceClassification were not initialized from the model checkpoint at xlm-roberta-base and are newly initialized: ['classifier.dense.bias', 'classifier.dense.weight', 'classifier.out_proj.bias', 'classifier.out_proj.weight']\n",
      "You should probably TRAIN this model on a down-stream task to be able to use it for predictions and inference.\n",
      "/tmp/ipykernel_116067/3393261999.py:21: FutureWarning: `tokenizer` is deprecated and will be removed in version 5.0.0 for `Trainer.__init__`. Use `processing_class` instead.\n",
      "  trainer = Trainer(\n",
      "/home/yazata/venvs/ai_env/lib/python3.12/site-packages/transformers/trainer.py:3420: FutureWarning: You are using `torch.load` with `weights_only=False` (the current default value), which uses the default pickle module implicitly. It is possible to construct malicious pickle data which will execute arbitrary code during unpickling (See https://github.com/pytorch/pytorch/blob/main/SECURITY.md#untrusted-models for more details). In a future release, the default value for `weights_only` will be flipped to `True`. This limits the functions that could be executed during unpickling. Arbitrary objects will no longer be allowed to be loaded via this mode unless they are explicitly allowlisted by the user via `torch.serialization.add_safe_globals`. We recommend you start setting `weights_only=True` for any use case where you don't have full control of the loaded file. Please open an issue on GitHub for any issues related to this experimental feature.\n",
      "  torch.load(os.path.join(checkpoint, OPTIMIZER_NAME), map_location=map_location)\n",
      "  0%|          | 0/3440 [00:00<?, ?it/s]/home/yazata/venvs/ai_env/lib/python3.12/site-packages/transformers/trainer.py:3083: FutureWarning: You are using `torch.load` with `weights_only=False` (the current default value), which uses the default pickle module implicitly. It is possible to construct malicious pickle data which will execute arbitrary code during unpickling (See https://github.com/pytorch/pytorch/blob/main/SECURITY.md#untrusted-models for more details). In a future release, the default value for `weights_only` will be flipped to `True`. This limits the functions that could be executed during unpickling. Arbitrary objects will no longer be allowed to be loaded via this mode unless they are explicitly allowlisted by the user via `torch.serialization.add_safe_globals`. We recommend you start setting `weights_only=True` for any use case where you don't have full control of the loaded file. Please open an issue on GitHub for any issues related to this experimental feature.\n",
      "  checkpoint_rng_state = torch.load(rng_file)\n",
      " 61%|██████    | 2100/3440 [00:19<00:00, 2380.41it/s]"
     ]
    },
    {
     "name": "stdout",
     "output_type": "stream",
     "text": [
      "{'loss': 0.1927, 'grad_norm': 57.126953125, 'learning_rate': 7.790697674418605e-06, 'epoch': 6.1}\n"
     ]
    },
    {
     "name": "stderr",
     "output_type": "stream",
     "text": [
      " 64%|██████▍   | 2200/3440 [01:11<02:55,  7.08it/s]  "
     ]
    },
    {
     "name": "stdout",
     "output_type": "stream",
     "text": [
      "{'loss': 0.1956, 'grad_norm': 48.05585479736328, 'learning_rate': 7.209302325581395e-06, 'epoch': 6.4}\n"
     ]
    },
    {
     "name": "stderr",
     "output_type": "stream",
     "text": [
      " 67%|██████▋   | 2300/3440 [02:04<10:01,  1.90it/s]"
     ]
    },
    {
     "name": "stdout",
     "output_type": "stream",
     "text": [
      "{'loss': 0.2238, 'grad_norm': 1.3836315870285034, 'learning_rate': 6.627906976744186e-06, 'epoch': 6.69}\n"
     ]
    },
    {
     "name": "stderr",
     "output_type": "stream",
     "text": [
      " 70%|██████▉   | 2400/3440 [02:56<09:07,  1.90it/s]"
     ]
    },
    {
     "name": "stdout",
     "output_type": "stream",
     "text": [
      "{'loss': 0.2023, 'grad_norm': 20.817903518676758, 'learning_rate': 6.046511627906977e-06, 'epoch': 6.98}\n"
     ]
    },
    {
     "name": "stderr",
     "output_type": "stream",
     "text": [
      "                                                   \n",
      " 70%|███████   | 2408/3440 [03:13<08:10,  2.10it/s]"
     ]
    },
    {
     "name": "stdout",
     "output_type": "stream",
     "text": [
      "{'eval_loss': 1.27922523021698, 'eval_accuracy': 0.7037845705967977, 'eval_f1': 0.7032217040634244, 'eval_runtime': 12.5049, 'eval_samples_per_second': 109.877, 'eval_steps_per_second': 6.877, 'epoch': 7.0}\n"
     ]
    },
    {
     "name": "stderr",
     "output_type": "stream",
     "text": [
      " 73%|███████▎  | 2500/3440 [04:10<08:15,  1.90it/s]  "
     ]
    },
    {
     "name": "stdout",
     "output_type": "stream",
     "text": [
      "{'loss': 0.1331, 'grad_norm': 49.449642181396484, 'learning_rate': 5.465116279069767e-06, 'epoch': 7.27}\n"
     ]
    },
    {
     "name": "stderr",
     "output_type": "stream",
     "text": [
      " 76%|███████▌  | 2600/3440 [05:03<07:22,  1.90it/s]"
     ]
    },
    {
     "name": "stdout",
     "output_type": "stream",
     "text": [
      "{'loss': 0.1397, 'grad_norm': 7.935540199279785, 'learning_rate': 4.883720930232559e-06, 'epoch': 7.56}\n"
     ]
    },
    {
     "name": "stderr",
     "output_type": "stream",
     "text": [
      " 78%|███████▊  | 2700/3440 [05:54<06:12,  1.99it/s]"
     ]
    },
    {
     "name": "stdout",
     "output_type": "stream",
     "text": [
      "{'loss': 0.1918, 'grad_norm': 10.256424903869629, 'learning_rate': 4.302325581395349e-06, 'epoch': 7.85}\n"
     ]
    },
    {
     "name": "stderr",
     "output_type": "stream",
     "text": [
      "                                                   \n",
      " 80%|████████  | 2752/3440 [06:31<05:10,  2.22it/s]"
     ]
    },
    {
     "name": "stdout",
     "output_type": "stream",
     "text": [
      "{'eval_loss': 1.425467610359192, 'eval_accuracy': 0.6994177583697234, 'eval_f1': 0.6990453696691474, 'eval_runtime': 11.815, 'eval_samples_per_second': 116.293, 'eval_steps_per_second': 7.279, 'epoch': 8.0}\n"
     ]
    },
    {
     "name": "stderr",
     "output_type": "stream",
     "text": [
      " 81%|████████▏ | 2800/3440 [07:00<05:21,  1.99it/s]  "
     ]
    },
    {
     "name": "stdout",
     "output_type": "stream",
     "text": [
      "{'loss': 0.134, 'grad_norm': 70.31515502929688, 'learning_rate': 3.72093023255814e-06, 'epoch': 8.14}\n"
     ]
    },
    {
     "name": "stderr",
     "output_type": "stream",
     "text": [
      " 84%|████████▍ | 2900/3440 [07:51<04:31,  1.99it/s]"
     ]
    },
    {
     "name": "stdout",
     "output_type": "stream",
     "text": [
      "{'loss': 0.1144, 'grad_norm': 114.13101196289062, 'learning_rate': 3.1395348837209307e-06, 'epoch': 8.43}\n"
     ]
    },
    {
     "name": "stderr",
     "output_type": "stream",
     "text": [
      " 87%|████████▋ | 3000/3440 [08:41<03:41,  1.99it/s]"
     ]
    },
    {
     "name": "stdout",
     "output_type": "stream",
     "text": [
      "{'loss': 0.1261, 'grad_norm': 47.57965850830078, 'learning_rate': 2.558139534883721e-06, 'epoch': 8.72}\n"
     ]
    },
    {
     "name": "stderr",
     "output_type": "stream",
     "text": [
      "                                                   \n",
      " 90%|█████████ | 3096/3440 [09:41<02:34,  2.22it/s]"
     ]
    },
    {
     "name": "stdout",
     "output_type": "stream",
     "text": [
      "{'eval_loss': 1.5531202554702759, 'eval_accuracy': 0.7066957787481805, 'eval_f1': 0.706246382678076, 'eval_runtime': 11.7952, 'eval_samples_per_second': 116.488, 'eval_steps_per_second': 7.291, 'epoch': 9.0}\n"
     ]
    },
    {
     "name": "stderr",
     "output_type": "stream",
     "text": [
      " 90%|█████████ | 3100/3440 [09:47<12:18,  2.17s/it]"
     ]
    },
    {
     "name": "stdout",
     "output_type": "stream",
     "text": [
      "{'loss': 0.1108, 'grad_norm': 20.515216827392578, 'learning_rate': 1.976744186046512e-06, 'epoch': 9.01}\n"
     ]
    },
    {
     "name": "stderr",
     "output_type": "stream",
     "text": [
      " 93%|█████████▎| 3200/3440 [10:38<02:00,  1.99it/s]"
     ]
    },
    {
     "name": "stdout",
     "output_type": "stream",
     "text": [
      "{'loss': 0.1069, 'grad_norm': 9.29903507232666, 'learning_rate': 1.3953488372093025e-06, 'epoch': 9.3}\n"
     ]
    },
    {
     "name": "stderr",
     "output_type": "stream",
     "text": [
      " 96%|█████████▌| 3300/3440 [11:28<01:10,  1.99it/s]"
     ]
    },
    {
     "name": "stdout",
     "output_type": "stream",
     "text": [
      "{'loss': 0.088, 'grad_norm': 27.952409744262695, 'learning_rate': 8.139534883720931e-07, 'epoch': 9.59}\n"
     ]
    },
    {
     "name": "stderr",
     "output_type": "stream",
     "text": [
      " 99%|█████████▉| 3400/3440 [12:18<00:20,  1.99it/s]"
     ]
    },
    {
     "name": "stdout",
     "output_type": "stream",
     "text": [
      "{'loss': 0.0958, 'grad_norm': 45.33456039428711, 'learning_rate': 2.3255813953488374e-07, 'epoch': 9.88}\n"
     ]
    },
    {
     "name": "stderr",
     "output_type": "stream",
     "text": [
      "                                                   \n",
      "100%|██████████| 3440/3440 [12:55<00:00,  2.22it/s]"
     ]
    },
    {
     "name": "stdout",
     "output_type": "stream",
     "text": [
      "{'eval_loss': 1.6349035501480103, 'eval_accuracy': 0.7052401746724891, 'eval_f1': 0.7044888289796246, 'eval_runtime': 11.6887, 'eval_samples_per_second': 117.55, 'eval_steps_per_second': 7.358, 'epoch': 10.0}\n"
     ]
    },
    {
     "name": "stderr",
     "output_type": "stream",
     "text": [
      "100%|██████████| 3440/3440 [13:02<00:00,  4.40it/s]\n"
     ]
    },
    {
     "name": "stdout",
     "output_type": "stream",
     "text": [
      "{'train_runtime': 782.0574, 'train_samples_per_second': 70.276, 'train_steps_per_second': 4.399, 'train_loss': 0.05716234334679537, 'epoch': 10.0}\n"
     ]
    },
    {
     "name": "stderr",
     "output_type": "stream",
     "text": [
      "100%|██████████| 86/86 [00:11<00:00,  7.50it/s]\n"
     ]
    },
    {
     "name": "stdout",
     "output_type": "stream",
     "text": [
      "Validation Results for English: {'eval_loss': 0.7505589723587036, 'eval_accuracy': 0.7132459970887919, 'eval_f1': 0.7134475172113163, 'eval_runtime': 11.604, 'eval_samples_per_second': 118.407, 'eval_steps_per_second': 7.411, 'epoch': 10.0}\n",
      "\n",
      "Fine-tuning model for language: Spanish\n"
     ]
    },
    {
     "name": "stderr",
     "output_type": "stream",
     "text": [
      "Map: 100%|██████████| 292/292 [00:00<00:00, 5679.46 examples/s]\n",
      "Map: 100%|██████████| 74/74 [00:00<00:00, 6273.31 examples/s]\n",
      "Some weights of XLMRobertaForSequenceClassification were not initialized from the model checkpoint at xlm-roberta-base and are newly initialized: ['classifier.dense.bias', 'classifier.dense.weight', 'classifier.out_proj.bias', 'classifier.out_proj.weight']\n",
      "You should probably TRAIN this model on a down-stream task to be able to use it for predictions and inference.\n",
      "/tmp/ipykernel_116067/3393261999.py:21: FutureWarning: `tokenizer` is deprecated and will be removed in version 5.0.0 for `Trainer.__init__`. Use `processing_class` instead.\n",
      "  trainer = Trainer(\n",
      "/home/yazata/venvs/ai_env/lib/python3.12/site-packages/transformers/trainer.py:3420: FutureWarning: You are using `torch.load` with `weights_only=False` (the current default value), which uses the default pickle module implicitly. It is possible to construct malicious pickle data which will execute arbitrary code during unpickling (See https://github.com/pytorch/pytorch/blob/main/SECURITY.md#untrusted-models for more details). In a future release, the default value for `weights_only` will be flipped to `True`. This limits the functions that could be executed during unpickling. Arbitrary objects will no longer be allowed to be loaded via this mode unless they are explicitly allowlisted by the user via `torch.serialization.add_safe_globals`. We recommend you start setting `weights_only=True` for any use case where you don't have full control of the loaded file. Please open an issue on GitHub for any issues related to this experimental feature.\n",
      "  torch.load(os.path.join(checkpoint, OPTIMIZER_NAME), map_location=map_location)\n",
      "  0%|          | 0/190 [00:00<?, ?it/s]\n"
     ]
    },
    {
     "name": "stdout",
     "output_type": "stream",
     "text": [
      "{'train_runtime': 0.2086, 'train_samples_per_second': 13996.224, 'train_steps_per_second': 910.713, 'train_loss': 0.0, 'epoch': 10.0}\n"
     ]
    },
    {
     "name": "stderr",
     "output_type": "stream",
     "text": [
      "100%|██████████| 5/5 [00:00<00:00, 10.26it/s]\n"
     ]
    },
    {
     "name": "stdout",
     "output_type": "stream",
     "text": [
      "Validation Results for Spanish: {'eval_loss': 0.8154340386390686, 'eval_accuracy': 0.6756756756756757, 'eval_f1': 0.6752668069113252, 'eval_runtime': 0.6202, 'eval_samples_per_second': 119.326, 'eval_steps_per_second': 8.063, 'epoch': 10.0}\n",
      "\n",
      "Fine-tuning model for language: Chinese\n"
     ]
    },
    {
     "name": "stderr",
     "output_type": "stream",
     "text": [
      "Map: 100%|██████████| 328/328 [00:00<00:00, 11723.42 examples/s]\n",
      "Map: 100%|██████████| 83/83 [00:00<00:00, 7851.31 examples/s]\n",
      "Some weights of XLMRobertaForSequenceClassification were not initialized from the model checkpoint at xlm-roberta-base and are newly initialized: ['classifier.dense.bias', 'classifier.dense.weight', 'classifier.out_proj.bias', 'classifier.out_proj.weight']\n",
      "You should probably TRAIN this model on a down-stream task to be able to use it for predictions and inference.\n",
      "/tmp/ipykernel_116067/3393261999.py:21: FutureWarning: `tokenizer` is deprecated and will be removed in version 5.0.0 for `Trainer.__init__`. Use `processing_class` instead.\n",
      "  trainer = Trainer(\n",
      "/home/yazata/venvs/ai_env/lib/python3.12/site-packages/transformers/trainer.py:3420: FutureWarning: You are using `torch.load` with `weights_only=False` (the current default value), which uses the default pickle module implicitly. It is possible to construct malicious pickle data which will execute arbitrary code during unpickling (See https://github.com/pytorch/pytorch/blob/main/SECURITY.md#untrusted-models for more details). In a future release, the default value for `weights_only` will be flipped to `True`. This limits the functions that could be executed during unpickling. Arbitrary objects will no longer be allowed to be loaded via this mode unless they are explicitly allowlisted by the user via `torch.serialization.add_safe_globals`. We recommend you start setting `weights_only=True` for any use case where you don't have full control of the loaded file. Please open an issue on GitHub for any issues related to this experimental feature.\n",
      "  torch.load(os.path.join(checkpoint, OPTIMIZER_NAME), map_location=map_location)\n",
      "  0%|          | 0/210 [00:00<?, ?it/s]\n"
     ]
    },
    {
     "name": "stdout",
     "output_type": "stream",
     "text": [
      "{'train_runtime': 0.2049, 'train_samples_per_second': 16005.106, 'train_steps_per_second': 1024.717, 'train_loss': 0.0, 'epoch': 10.0}\n"
     ]
    },
    {
     "name": "stderr",
     "output_type": "stream",
     "text": [
      "100%|██████████| 6/6 [00:00<00:00, 10.43it/s]"
     ]
    },
    {
     "name": "stdout",
     "output_type": "stream",
     "text": [
      "Validation Results for Chinese: {'eval_loss': 1.1679537296295166, 'eval_accuracy': 0.5903614457831325, 'eval_f1': 0.5713297231313469, 'eval_runtime': 0.7079, 'eval_samples_per_second': 117.251, 'eval_steps_per_second': 8.476, 'epoch': 10.0}\n"
     ]
    },
    {
     "name": "stderr",
     "output_type": "stream",
     "text": [
      "\n"
     ]
    }
   ],
   "source": [
    "results = []  # Store results for each language\n",
    "\n",
    "for language, dataset in datasets_by_language.items():\n",
    "    print(f\"\\nFine-tuning model for language: {language}\")\n",
    "    try:\n",
    "        # Tokenize dataset\n",
    "        tokenized_dataset = dataset.map(\n",
    "            lambda x: preprocess_function(x, tokenizer), batched=True\n",
    "        )\n",
    "        tokenized_dataset = tokenized_dataset.remove_columns(\n",
    "            [\"premise\", \"hypothesis\", \"lang_abv\", \"language\"]\n",
    "        )\n",
    "\n",
    "        # Load model\n",
    "        model = AutoModelForSequenceClassification.from_pretrained(\n",
    "            model_name, num_labels=3\n",
    "        )\n",
    "        model.to(\"cuda\" if torch.cuda.is_available() else \"cpu\")\n",
    "\n",
    "        # Initialize Trainer\n",
    "        trainer = Trainer(\n",
    "            model=model,\n",
    "            args=training_args,\n",
    "            train_dataset=tokenized_dataset[\"train\"],\n",
    "            eval_dataset=tokenized_dataset[\"validation\"],\n",
    "            tokenizer=tokenizer,\n",
    "            compute_metrics=compute_metrics,\n",
    "        )\n",
    "\n",
    "        # Train model\n",
    "        #trainer.train()\n",
    "        trainer.train(resume_from_checkpoint=True) # if the training is resumed\n",
    "\n",
    "\n",
    "        # Evaluate and save results\n",
    "        eval_results = trainer.evaluate()\n",
    "        print(f\"Validation Results for {language}: {eval_results}\")\n",
    "        results.append(\n",
    "            {\"language\": language, \"accuracy\": eval_results[\"eval_accuracy\"]}\n",
    "        )\n",
    "\n",
    "    except Exception as e:\n",
    "        print(f\"Error processing language {language}: {e}\")"
   ]
  },
  {
   "cell_type": "markdown",
   "metadata": {},
   "source": [
    "### **Step 6: Analyze Results**\n",
    "\n",
    "Create a bar plot to compare validation accuracies across languages."
   ]
  },
  {
   "cell_type": "code",
   "execution_count": null,
   "metadata": {},
   "outputs": [],
   "source": [
    "# Convert results to DataFrame\n",
    "results_df = pd.DataFrame(results)\n",
    "\n",
    "# Plot accuracies\n",
    "plt.figure(figsize=(10, 6))\n",
    "plt.bar(results_df[\"language\"], results_df[\"accuracy\"], color=\"skyblue\")\n",
    "plt.title(\"Validation Accuracy by Language\", fontsize=16)\n",
    "plt.xlabel(\"Language\", fontsize=14)\n",
    "plt.ylabel(\"Accuracy\", fontsize=14)\n",
    "plt.ylim(0, 1)\n",
    "plt.tight_layout()\n",
    "plt.savefig(\"validation_accuracy_by_language.png\")\n",
    "plt.show()\n",
    "\n",
    "# Save results to CSV\n",
    "results_df.to_csv(\"language_fine_tuning_results.csv\", index=False)\n",
    "print(\"Results saved to language_fine_tuning_results.csv\")"
   ]
  },
  {
   "cell_type": "markdown",
   "metadata": {},
   "source": [
    "### **Step 7: Conclusion**\n",
    "\n",
    "**The evaluation of the fine-tuned model on individual languages revealed the following key insights:**\n",
    "\n",
    "-   **Performance on English:** The model achieved a validation accuracy of approximately **0.71 on English**, which is consistent with the performance observed for the entire dataset. This suggests that the model performs particularly well on English, likely due to its dominance in the training data.\n",
    "\n",
    "-   **Performance on Spanish and Chinese:** For Spanish and Chinese, the validation accuracies were **0.67 and 0.59, respectively**. These lower results compared to English confirm that the model struggles with languages with fewer data points in the training set.\n",
    "\n",
    "-   **Impact of Imbalanced Data:** The overall performance on the imbalanced dataset appears to be heavily influenced by English. Since English constitutes the majority of the training data, it likely biases the model to perform well on English while underperforming on other languages. The weighted average of individual performances, driven by the population size of each language, results in the observed overall accuracy.\n",
    "\n",
    "-   Implications for Data Balancing: This analysis supports the hypothesis that **balancing the data could lead to better overall performance** by improving the model's ability to generalize across all languages, not just English. Balancing the training data would ensure equal representation of all languages, potentially addressing the observed bias."
   ]
  }
 ],
 "metadata": {
  "kernelspec": {
   "display_name": "ai_env",
   "language": "python",
   "name": "python3"
  },
  "language_info": {
   "codemirror_mode": {
    "name": "ipython",
    "version": 3
   },
   "file_extension": ".py",
   "mimetype": "text/x-python",
   "name": "python",
   "nbconvert_exporter": "python",
   "pygments_lexer": "ipython3",
   "version": "3.12.3"
  }
 },
 "nbformat": 4,
 "nbformat_minor": 2
}
